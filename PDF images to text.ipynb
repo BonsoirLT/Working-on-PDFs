{
 "cells": [
  {
   "cell_type": "markdown",
   "metadata": {},
   "source": [
    "pip install ocrmypdf\n",
    "\n",
    "pip install pytesseract\n",
    "\n",
    "pip install opencv-python\n",
    "\n",
    "pip install pdf2image"
   ]
  },
  {
   "cell_type": "code",
   "execution_count": 1,
   "metadata": {},
   "outputs": [],
   "source": [
    "# import libs\n",
    "try:\n",
    "    from PIL import Image\n",
    "except ImportError:\n",
    "    import Image\n",
    "import cv2\n",
    "import pytesseract\n",
    "import os\n",
    "import numpy as np\n",
    "import pandas as pd\n",
    "import re\n",
    "from pdf2image import convert_from_bytes"
   ]
  },
  {
   "cell_type": "code",
   "execution_count": 2,
   "metadata": {},
   "outputs": [],
   "source": [
    "# Some help functions \n",
    "def get_conf(page_gray):\n",
    "    '''return a average confidence value of OCR result '''\n",
    "    df = pytesseract.image_to_data(page_gray,output_type='data.frame')\n",
    "    df.drop(df[df.conf==-1].index.values,inplace=True)\n",
    "    df.reset_index()\n",
    "    return df.conf.mean()\n",
    "  \n",
    "def deskew(image):\n",
    "    '''deskew the image'''\n",
    "    gray = cv2.bitwise_not(image)\n",
    "    temp_arr = cv2.threshold(gray, 0, 255, cv2.THRESH_BINARY + cv2.THRESH_OTSU)[1]\n",
    "    coords = np.column_stack(np.where(temp_arr > 0))\n",
    "    angle = cv2.minAreaRect(coords)[-1]\n",
    "    if angle < -45:\n",
    "        angle = -(90 + angle)\n",
    "    else:\n",
    "        angle = -angle\n",
    "    (h, w) = image.shape[:2]\n",
    "    center = (w // 2, h // 2)\n",
    "    M = cv2.getRotationMatrix2D(center, angle, 1.0)\n",
    "    rotated = cv2.warpAffine(image, M, (w, h), flags=cv2.INTER_CUBIC, borderMode=cv2.BORDER_REPLICATE)\n",
    "    return rotated"
   ]
  },
  {
   "cell_type": "code",
   "execution_count": 3,
   "metadata": {},
   "outputs": [
    {
     "name": "stdout",
     "output_type": "stream",
     "text": [
      "11312470_BCB Group annual 2021.pdf is done\n",
      "08458210_Elliptic annual 2022.pdf is done\n"
     ]
    }
   ],
   "source": [
    "'''\n",
    "Main part of OCR:\n",
    "pages_df: save eextracted text for each pdf file, index by page\n",
    "OCR_dic : dict for saving df of each pdf, filename is the key\n",
    "'''\n",
    "PATH = your_direcotry #DEFINE YOU PATH HERE\n",
    "file_list = [\"FILE1.pdf\",\"FILE2.pdf\"] #LIST OF YOUR PDF FILE NAMES\n",
    "OCR_dic={} \n",
    "for file in file_list:\n",
    "    # convert pdf into image\n",
    "    pdf_file = convert_from_bytes(open(os.path.join(PATH,file), 'rb').read())\n",
    "    # create a df to save each pdf's text\n",
    "    pages_df = pd.DataFrame(columns=['conf','text'])\n",
    "    for (i,page) in enumerate(pdf_file) :\n",
    "        try:\n",
    "            # transfer image of pdf_file into array\n",
    "            page_arr = np.asarray(page)\n",
    "            # transfer into grayscale\n",
    "            page_arr_gray = cv2.cvtColor(page_arr,cv2.COLOR_BGR2GRAY)\n",
    "            # deskew the page\n",
    "            page_deskew = deskew(page_arr_gray)\n",
    "            # cal confidence value\n",
    "            page_conf = get_conf(page_deskew)\n",
    "            # extract string \n",
    "            pages_df = pages_df.append({'conf': page_conf,'text': pytesseract.image_to_string(page_deskew)}, ignore_index=True)\n",
    "        except:\n",
    "            # if can't extract then give some notes into df\n",
    "            pages_df = pages_df.append({'conf': -1,'text': 'N/A'}, ignore_index=True)\n",
    "            continue\n",
    "    # save df into a dict with filename as key        \n",
    "    OCR_dic[file]=pages_df\n",
    "    print('{} is done'.format(file))"
   ]
  },
  {
   "cell_type": "code",
   "execution_count": 6,
   "metadata": {},
   "outputs": [
    {
     "data": {
      "text/plain": [
       "{'11312470_BCB Group annual 2021.pdf':    conf text\n",
       " 0    -1  N/A\n",
       " 1    -1  N/A\n",
       " 2    -1  N/A\n",
       " 3    -1  N/A\n",
       " 4    -1  N/A\n",
       " 5    -1  N/A\n",
       " 6    -1  N/A\n",
       " 7    -1  N/A\n",
       " 8    -1  N/A\n",
       " 9    -1  N/A\n",
       " 10   -1  N/A\n",
       " 11   -1  N/A,\n",
       " '08458210_Elliptic annual 2022.pdf':    conf text\n",
       " 0    -1  N/A\n",
       " 1    -1  N/A\n",
       " 2    -1  N/A\n",
       " 3    -1  N/A\n",
       " 4    -1  N/A\n",
       " 5    -1  N/A\n",
       " 6    -1  N/A\n",
       " 7    -1  N/A\n",
       " 8    -1  N/A\n",
       " 9    -1  N/A\n",
       " 10   -1  N/A\n",
       " 11   -1  N/A\n",
       " 12   -1  N/A\n",
       " 13   -1  N/A\n",
       " 14   -1  N/A\n",
       " 15   -1  N/A\n",
       " 16   -1  N/A\n",
       " 17   -1  N/A\n",
       " 18   -1  N/A\n",
       " 19   -1  N/A\n",
       " 20   -1  N/A\n",
       " 21   -1  N/A\n",
       " 22   -1  N/A\n",
       " 23   -1  N/A\n",
       " 24   -1  N/A\n",
       " 25   -1  N/A\n",
       " 26   -1  N/A\n",
       " 27   -1  N/A\n",
       " 28   -1  N/A\n",
       " 29   -1  N/A\n",
       " 30   -1  N/A\n",
       " 31   -1  N/A\n",
       " 32   -1  N/A\n",
       " 33   -1  N/A\n",
       " 34   -1  N/A\n",
       " 35   -1  N/A\n",
       " 36   -1  N/A\n",
       " 37   -1  N/A\n",
       " 38   -1  N/A\n",
       " 39   -1  N/A\n",
       " 40   -1  N/A\n",
       " 41   -1  N/A\n",
       " 42   -1  N/A\n",
       " 43   -1  N/A}"
      ]
     },
     "execution_count": 6,
     "metadata": {},
     "output_type": "execute_result"
    }
   ],
   "source": [
    "OCR_dic"
   ]
  },
  {
   "cell_type": "code",
   "execution_count": null,
   "metadata": {},
   "outputs": [],
   "source": []
  }
 ],
 "metadata": {
  "kernelspec": {
   "display_name": "Python 3",
   "language": "python",
   "name": "python3"
  },
  "language_info": {
   "codemirror_mode": {
    "name": "ipython",
    "version": 3
   },
   "file_extension": ".py",
   "mimetype": "text/x-python",
   "name": "python",
   "nbconvert_exporter": "python",
   "pygments_lexer": "ipython3",
   "version": "3.8.10"
  }
 },
 "nbformat": 4,
 "nbformat_minor": 2
}
